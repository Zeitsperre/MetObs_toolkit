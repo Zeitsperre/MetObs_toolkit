


import metobs_toolkit
your_dataset = metobs_toolkit.Dataset()
your_dataset.update_settings(
    input_data_file=metobs_toolkit.demo_datafile, # path to the data file
    input_metadata_file=metobs_toolkit.demo_metadatafile,
    template_file=metobs_toolkit.demo_template,
)





your_dataset.update_qc_settings(gapsize_in_records = 20)

#Update the gapsize BEFORE importing the data
your_dataset.import_data_from_file()

your_dataset.coarsen_time_resolution(freq='15T')





your_dataset.missing_obs.get_info()





your_dataset.get_station('vlinder02').make_plot(colorby='label')





your_dataset.get_gaps_info()





#first apply (default) quality control
your_dataset.apply_quality_control(obstype='temp') #we use the default settings in this example

#Interpret the outliers as missing observations and gaps.
your_dataset.update_gaps_and_missing_from_outliers(obstype='temp',
                                                   n_gapsize=None) #It is possible to change the definition of gapsize.
#Inspect your gaps using a printout or by plotting
#your_dataset.get_gaps_info()
your_dataset.make_plot(colorby='label')





your_dataset.get_station('vlinder05').make_plot(colorby='label')





#Update the specific settings
your_dataset.update_gap_and_missing_fill_settings(missing_obs_interpolation_method = 'time')

#Interpolate the missing timestamps
your_dataset.fill_missing_obs_linear(obstype='temp')

#Inspect the filled values by plotting or printing out the info.
your_dataset.get_station('vlinder05').make_plot(colorby='label')
your_dataset.missing_obs.get_info()





#Update the settings (definition of the period to calculate biases for)
your_dataset.update_gap_and_missing_fill_settings(
                                                  gap_debias_prefered_leading_period_hours=24,
                                                  gap_debias_prefered_trailing_period_hours=24,
                                                  gap_debias_minimum_leading_period_hours=6,
                                                  gap_debias_minimum_trailing_period_hours=6,
                                                  )
#(As a demonstration, we will fill the gaps of a single station. The following functions can also be
# directly applied to the dataset.)
your_station = your_dataset.get_station('vlinder05')





era5_modeldata = your_station.get_equivalent_era5_modeldata(get_obstypes="all")
era5_modeldata.get_info()





#Use the debias method to fill the gaps
gapfill_df = your_station.fill_gaps_using_debiased_modeldata(modeldata=era5_modeldata, obstype='temp')





your_station.make_plot(colorby='label')





#inspect the gapfilldf attribute direct
your_station.gapfilldf.head()

#or print out info
#your_station.get_gaps_info()
