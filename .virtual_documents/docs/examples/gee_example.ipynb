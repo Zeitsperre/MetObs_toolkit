





import metobs_toolkit

your_dataset = metobs_toolkit.Dataset()
your_dataset.update_settings(
    input_data_file=metobs_toolkit.demo_datafile, # path to the data file
    input_metadata_file=metobs_toolkit.demo_metadatafile,
    template_file=metobs_toolkit.demo_template,
)

your_dataset.import_data_from_file()





your_dataset.metadf.head()





lcz_values = your_dataset.get_lcz()
# The LCZs for all your stations are extracted
print(lcz_values)








print(your_dataset.metadf['lcz'].head())





your_dataset.make_geo_plot(variable="lcz")





altitudes = your_dataset.get_altitude() #The altitudes are in meters above sea level.
print(altitudes)





aggregated_landcover = your_dataset.get_landcover(
                                        buffers=[100, 250], # a list of buffer radii in meters
                                        aggregate=True #if True, aggregate landcover classes to the water, pervious and impervious.
                                        )

print(aggregated_landcover)





#1. Setup of the GEE extractor

#Create a Gee extractor (this class holds methods for interacting with GEE)
era5_extractor = metobs_toolkit.GeeExtractor()

#Specify that you want to use the ERA5 dataset
era5_extractor.activate_ERA5()

#2. Setup of the Modeldata object
#Create a Modeldata object (this data object stores timeseries and methods of modeldata).
era5_modeldata = metobs_toolkit.Modeldata(metadf=your_dataset.metadf,
                                          extractor=era5_extractor)
#add an observation as demo
dewpoint_temperature = metobs_toolkit.Obstype(obsname='dewpoint_temp',
                                              std_unit='Celsius',
                                              description='Dewpoint temperature at 2m height',
                                              unit_conversions = {'Kelvin': ['x-273.15']})

#Convert the Obstype into a ModelObstype
dewpoint_temp_modeldata_obstype = metobs_toolkit.ModelObstype(obstype=dewpoint_temperature,
                                                              band_name='dewpoint_temperature_2m', #See ERA5 band names
                                                              band_unit='Kelvin',
                                                              band_description='Temperature to which the air, at 2 meters above the surface of the Earth, would ... '
                                                             )
#add it to the modeldata
era5_modeldata.add_obstype(dewpoint_temp_modeldata_obstype)

#Extract modeldata
from datetime import datetime
startdt = datetime(2022, 8, 15)
enddt = datetime(2022, 8, 16)
era5_modeldata.import_from_gee(target_obstypes=[era5_modeldata.obstypes['temp'],
                                                dewpoint_temp_modeldata_obstype],
                               start_utc=startdt,
                               end_utc=enddt,
                               gdrive_filename="era5_demo_data")

# What is inside the Modeldata
era5_modeldata.get_info() #prints out info on the content
print(era5_modeldata.obstypes) #see all present Modelobstypes
print(era5_modeldata.df.head()) #See how the data looks like





#Get the ERA5 data for a single station (to reduce data transfer)
your_station = your_dataset.get_station('vlinder02')

#Extract time series at the location of the station
ERA5_data = your_station.get_equivalent_era5_modeldata(
                                        get_obstypes='all'
                                      )

#Get info
print(ERA5_data)
ERA5_data.make_plot(obstype_model='temp',
                    dataset=your_station, #add the observations to the same plot
                    obstype_dataset='temp')






#Illustration
#Extract time series at the locations all the station
ERA5_data = your_dataset.get_equivalent_era5_modeldata(
                                            get_obstypes='all'
                                          )

#Because the data amount is too large, it will be written to a file on your Google Drive! The returned Modeldata is empty.
print(ERA5_data)



#See the output to find the modeldata in your Google Drive, and download the file.
#Update the empty Modeldata with the data from the file

#ERA5_data.set_model_from_csv(csvpath='/home/..../era5_data.csv') #The path to the downloaded file
#print(ERA5_data)





landcovers = metobs_toolkit.GeeExtractor()
landcovers.activate_worldcover()

spatial_map = landcovers.make_gee_plot(metadf = your_dataset.metadf)
spatial_map
